{
 "cells": [
  {
   "cell_type": "markdown",
   "metadata": {},
   "source": [
    "# PROYECTO PYTHON CORTE 2 - 2019-2\n",
    "## Integrantes\n",
    "### - Cristian Duran Monsalve\n",
    "### - Luis Carlos Jordan Hurtado\n",
    "### - Kelly Fernanda Vásquez Zapata"
   ]
  },
  {
   "cell_type": "markdown",
   "metadata": {},
   "source": [
    "## DECLARACIÓN DE VARIABLES Y DATOS PÚBLICOS"
   ]
  },
  {
   "cell_type": "code",
   "execution_count": 1,
   "metadata": {},
   "outputs": [],
   "source": [
    "# Librerias que utiliza este aplicativo FLASK.\n",
    "from flask import Flask, render_template, request, make_response, escape, url_for, redirect, flash, Response\n",
    "from flask_debug import Debug\n",
    "# Librerias que utiliza el Web scraper\n",
    "import requests\n",
    "import lxml.html as lh\n",
    "import pandas as pd\n",
    "from bs4 import BeautifulSoup\n",
    "import matplotlib.pyplot as plt\n",
    "from matplotlib.backends.backend_agg import FigureCanvasAgg as FigureCanvas\n",
    "import numpy as np\n",
    "import csv\n",
    "import mysql.connector as mariadb\n",
    "import hashlib\n",
    "# Libreria para convertir a imagen\n",
    "import io\n",
    "app = Flask(__name__)\n",
    "app.secret_key = '123456'\n",
    "\n",
    "csv_path = './static/futbol.csv'\n",
    "csv_obj = csv.DictReader(open(csv_path, 'r'))\n",
    "csv_list = list(csv_obj)\n",
    "\n",
    "url = 'https://resultados.as.com/resultados/futbol/primera_femenina/clasificacion/'\n",
    "\n",
    "def Conexion():\n",
    "    return mariadb.connect(host='localhost', port='3306', user='root', password='123456', database='proyecto_python2')\n",
    "\n",
    "def create_graph(path, function):\n",
    "    figure = plt.figure(figsize=(10,8))\n",
    "    function()\n",
    "    plt.title('Lista de Equipos de Futbol Liga Femenina Española')\n",
    "    plt.xlabel('Equipos')\n",
    "    plt.ylabel('Puntajes')\n",
    "    plt.axis('tight')\n",
    "    plt.xticks(rotation='vertical') \n",
    "    figure.savefig('./static/images/graficas/' + path)\n",
    "    # fig.savefig('./static/images/graficas/lineal.png', bbox_inches='tight', pad_inches=0)"
   ]
  },
  {
   "cell_type": "markdown",
   "metadata": {},
   "source": [
    "## DECLARACIÓN DE RUTAS"
   ]
  },
  {
   "cell_type": "markdown",
   "metadata": {},
   "source": [
    "### INDEX - PÁGINA PRINCIPAL"
   ]
  },
  {
   "cell_type": "code",
   "execution_count": 2,
   "metadata": {},
   "outputs": [],
   "source": [
    "@app.route(\"/\")\n",
    "def index():\n",
    "    return render_template(\"index.php\")"
   ]
  },
  {
   "cell_type": "markdown",
   "metadata": {},
   "source": [
    "### FUNCIONES WEBSCRAPING"
   ]
  },
  {
   "cell_type": "code",
   "execution_count": 3,
   "metadata": {},
   "outputs": [],
   "source": [
    "\n",
    "@app.route(\"/menu_scraper\")\n",
    "def menu_scraper():\n",
    "    return  render_template('menu_scraper.php')\n",
    "\n",
    "@app.route(\"/webscraper_datos\")\n",
    "def webscraper_datos():\n",
    "    equipos = []\n",
    "    nequipos = WebScraper()\n",
    "    partidos = []\n",
    "    npartidos = WebScraper()\n",
    "    lista = []\n",
    "    eq = nequipos[0].values.tolist()\n",
    "    pa = nequipos[1].values.tolist()\n",
    "    total=len(eq)\n",
    "    for x in range(total):\n",
    "        lista.append([eq[x], pa[x]])\n",
    "    \n",
    "    webscrapertocsv = pd.DataFrame([npartidos], columns= ['Nombre Equipo', 'Partidos'])\n",
    "\n",
    "    #Exportamos a csv\n",
    "    webscrapertocsv.to_csv('./static/posiciones_futbol_femenino.csv', index = False)\n",
    "    \n",
    "    return render_template('webscraper_datos.php', list_obj=lista )\n",
    "\n",
    "def WebScraper():\n",
    "    page =requests.get(url).text\n",
    "    soup = (BeautifulSoup(page, 'lxml'))\n",
    "    \n",
    "    equipos = []\n",
    "    \n",
    "    equipos_futbol = soup.find_all('span', attrs={'class':'nombre-equipo'})\n",
    "    count = 0\n",
    "    for i in equipos_futbol:\n",
    "        if count < 6:\n",
    "            equipos.append(i.text)\n",
    "        else:\n",
    "            break\n",
    "        count += 1\n",
    "        \n",
    "    nequipos = pd.DataFrame(equipos)\n",
    "    nequipos.head(6)\n",
    "    \n",
    "    partidos = []\n",
    "    \n",
    "     #Puntos por partidos jugados\n",
    "    partido = soup.find_all('td', class_='destacado') \n",
    "\n",
    "    count = 0\n",
    "    for i in partido:\n",
    "        if count < 6:\n",
    "            partidos.append(i.text)\n",
    "        else:\n",
    "            break\n",
    "        count += 1    \n",
    "        \n",
    "    npartidos = pd.DataFrame(partidos)\n",
    "    \n",
    "    return nequipos, npartidos "
   ]
  },
  {
   "cell_type": "markdown",
   "metadata": {},
   "source": [
    "### FUNCIONES CVS"
   ]
  },
  {
   "cell_type": "code",
   "execution_count": null,
   "metadata": {},
   "outputs": [],
   "source": [
    "@app.route(\"/menu_csv\")\n",
    "def menu_csv():\n",
    "    return render_template(\"menu_csv.php\")\n",
    "\n",
    "@app.route(\"/csv\")\n",
    "def csv():\n",
    "    datos = pd.read_csv('./static/futbol.csv')\n",
    "    total = len(datos)\n",
    "    return  render_template('datos_csv.php', object_list=datos, total=total)   \n",
    "    \n",
    "@app.route(\"/graficas_csv\")\n",
    "def graficas_csv():\n",
    "    datos = pd.read_csv('./static/futbol.csv')\n",
    "    df = pd.DataFrame(datos)\n",
    "    grouped = df.groupby('Nombre Equipo')['Puntos de Clasificacion'].sum()\n",
    "    create_graph('lineas_csv.png', lambda: plt.plot(df['Puntos de Clasificacion']))\n",
    "    create_graph('barras_csv.png', lambda: plt.bar(grouped.index.tolist(), grouped.values.tolist()))\n",
    "    create_graph('columnas_csv.png', lambda: plt.barh(grouped.index.tolist(), grouped.values.tolist()))\n",
    "    create_graph('pie_csv.png', lambda: plt.pie(df['Puntos de Clasificacion'], labels=df['Nombre Equipo'], autopct=\"%0.1f %%\", shadow=True))\n",
    "    return  render_template('graficas_csv.php')  \n"
   ]
  },
  {
   "cell_type": "markdown",
   "metadata": {},
   "source": [
    "### FUNCIONES BASES DE DATOS"
   ]
  },
  {
   "cell_type": "code",
   "execution_count": null,
   "metadata": {},
   "outputs": [],
   "source": [
    "@app.route(\"/menu_bd\")\n",
    "def menu_bd():\n",
    "    return render_template(\"menu_bd.php\")\n",
    "\n",
    "@app.route(\"/basedatos\")\n",
    "def basedatos():\n",
    "    datos_db = []\n",
    "    data = pd.read_sql('SELECT nombreequipos, puntuacion  FROM proyecto2', Conexion())\n",
    "    total = len(data['nombreequipos'])\n",
    "    for x in range(total):\n",
    "        datos_db.append([data['nombreequipos'][x], data['puntuacion'][x]])\n",
    "    return render_template('datos_sql.php', db_datos=datos_db)\n",
    "\n",
    "\n",
    "@app.route(\"/graficas_bd\")\n",
    "def graficas_bd():\n",
    "    data = pd.read_sql('SELECT substr(nombreequipos, 1, 7) as nombreequipos, sum(puntuacion) as puntuacion FROM proyecto2 group by nombreequipos', Conexion())\n",
    "    histo = pd.read_sql(' select puntuacion from proyecto2', Conexion())\n",
    "    create_graph('lineal.png', lambda: plt.plot(data['nombreequipos'], data['puntuacion']))\n",
    "    create_graph('barras.png', lambda: plt.bar(data['nombreequipos'], data['puntuacion']))\n",
    "    create_graph('columnas.png', lambda: plt.barh(data['nombreequipos'], data['puntuacion']))\n",
    "    create_graph('porcentaje.png', lambda: plt.pie(data['puntuacion'], labels=data['nombreequipos'], autopct=\"%0.1f %%\"))\n",
    "    create_graph('histo.png', lambda: plt.hist(histo['puntuacion'], bins=11))\n",
    "    return  render_template('graficas_bd.php')\n"
   ]
  },
  {
   "cell_type": "markdown",
   "metadata": {},
   "source": [
    "### FINAL"
   ]
  },
  {
   "cell_type": "code",
   "execution_count": null,
   "metadata": {},
   "outputs": [
    {
     "name": "stdout",
     "output_type": "stream",
     "text": [
      " * Serving Flask app \"__main__\" (lazy loading)\n",
      " * Environment: production\n",
      "   WARNING: Do not use the development server in a production environment.\n",
      "   Use a production WSGI server instead.\n",
      " * Debug mode: on\n"
     ]
    },
    {
     "name": "stderr",
     "output_type": "stream",
     "text": [
      " * Running on http://127.0.0.1:5000/ (Press CTRL+C to quit)\n",
      "127.0.0.1 - - [22/Oct/2019 23:19:14] \"GET / HTTP/1.1\" 200 -\n",
      "127.0.0.1 - - [22/Oct/2019 23:19:17] \"GET /menu_csv HTTP/1.1\" 200 -\n"
     ]
    }
   ],
   "source": [
    "if __name__ == \"__main__\":\n",
    "    app.run(debug=True, use_reloader=False)"
   ]
  },
  {
   "cell_type": "code",
   "execution_count": null,
   "metadata": {},
   "outputs": [],
   "source": []
  }
 ],
 "metadata": {
  "kernelspec": {
   "display_name": "Python 3",
   "language": "python",
   "name": "python3"
  },
  "language_info": {
   "codemirror_mode": {
    "name": "ipython",
    "version": 3
   },
   "file_extension": ".py",
   "mimetype": "text/x-python",
   "name": "python",
   "nbconvert_exporter": "python",
   "pygments_lexer": "ipython3",
   "version": "3.7.3"
  }
 },
 "nbformat": 4,
 "nbformat_minor": 2
}
